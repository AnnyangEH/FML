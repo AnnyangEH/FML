{
  "nbformat": 4,
  "nbformat_minor": 0,
  "metadata": {
    "colab": {
      "name": "Hello World",
      "provenance": []
    },
    "kernelspec": {
      "name": "python3",
      "display_name": "Python 3"
    },
    "language_info": {
      "name": "python"
    }
  },
  "cells": [
    {
      "cell_type": "code",
      "metadata": {
        "id": "tXA2QQNluROg"
      },
      "source": [
        "'''\n",
        "혼자 공부하는 머신러닝! + 딥러닝\n",
        "이라는 책을 통해서 공부중인 것과 배운 것을 주석으로 남김\n",
        "사실 공부하다가 기초적인거에서 좀 막혀서 \n",
        "파이썬부터 공부하고 조금 텀을 두고 다시 공부할 예정(21.05.23)\n",
        "'''"
      ],
      "execution_count": null,
      "outputs": []
    },
    {
      "cell_type": "code",
      "metadata": {
        "colab": {
          "base_uri": "https://localhost:8080/"
        },
        "id": "QcxFe4zwuICj",
        "outputId": "d7bcf6e0-108f-49e8-caf0-c6eb188d24ff"
      },
      "source": [
        "print('Hello World')"
      ],
      "execution_count": null,
      "outputs": [
        {
          "output_type": "stream",
          "text": [
            "Hello World\n"
          ],
          "name": "stdout"
        }
      ]
    }
  ]
}